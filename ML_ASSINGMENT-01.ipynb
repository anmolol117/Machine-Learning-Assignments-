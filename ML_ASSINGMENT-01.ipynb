{
 "cells": [
  {
   "cell_type": "code",
   "execution_count": 1,
   "id": "b8aa4c69",
   "metadata": {},
   "outputs": [],
   "source": [
    "import numpy as np\n",
    "import pandas as pd"
   ]
  },
  {
   "cell_type": "markdown",
   "id": "953fe1ef",
   "metadata": {},
   "source": [
    "Reverse the NumPy array: arr = np.array([1, 2, 3, 6, 4, 5])"
   ]
  },
  {
   "cell_type": "code",
   "execution_count": 2,
   "id": "0cc4b5f2",
   "metadata": {},
   "outputs": [
    {
     "data": {
      "text/plain": [
       "array([5, 4, 3, 2, 1])"
      ]
     },
     "execution_count": 2,
     "metadata": {},
     "output_type": "execute_result"
    }
   ],
   "source": [
    "arr = np.array([1, 2, 3, 4, 5])\n",
    "reversed_arr = arr[::-1]\n",
    "reversed_arr"
   ]
  },
  {
   "cell_type": "markdown",
   "id": "99625d06",
   "metadata": {},
   "source": [
    "Flatten the NumPy arr: array1 = np.array([[1, 2, 3], [2, 4, 5], [1, 2, 3]]) using any two NumPy in-built methods\n"
   ]
  },
  {
   "cell_type": "code",
   "execution_count": 3,
   "id": "b2ea69d6",
   "metadata": {},
   "outputs": [
    {
     "data": {
      "text/plain": [
       "array([1, 2, 3, 2, 4, 5, 1, 2, 3])"
      ]
     },
     "execution_count": 3,
     "metadata": {},
     "output_type": "execute_result"
    }
   ],
   "source": [
    "array1 = np.array([[1, 2, 3], [2, 4, 5], [1, 2, 3]])\n",
    "flatten = array1.flatten()\n",
    "flatten"
   ]
  },
  {
   "cell_type": "markdown",
   "id": "071c8261",
   "metadata": {},
   "source": [
    "Compare the following numpy arrays:\n",
    "\n",
    "arr1 = np.array([[1, 2], [3, 4]])\n",
    "arr2 = np.array([[1, 2], [3, 4]])"
   ]
  },
  {
   "cell_type": "code",
   "execution_count": 4,
   "id": "f0840768",
   "metadata": {},
   "outputs": [
    {
     "data": {
      "text/plain": [
       "array([[ True,  True],\n",
       "       [ True,  True]])"
      ]
     },
     "execution_count": 4,
     "metadata": {},
     "output_type": "execute_result"
    }
   ],
   "source": [
    "arr1 = np.array([[1, 2], [3, 4]])\n",
    "arr2 = np.array([[1, 2], [3, 4]])\n",
    "\n",
    "arr1 == arr2"
   ]
  },
  {
   "cell_type": "markdown",
   "id": "eef0b301",
   "metadata": {},
   "source": [
    "Find the most frequent value and their indice(s) in the following arrays: \n",
    "\n",
    "x = np.array([1,2,3,4,5,1,2,1,1,1])\n",
    "y = np.array([1, 1, 1, 2, 3, 4, 2, 4, 3, 3, ])"
   ]
  },
  {
   "cell_type": "code",
   "execution_count": 5,
   "id": "5094b777",
   "metadata": {},
   "outputs": [
    {
     "name": "stdout",
     "output_type": "stream",
     "text": [
      "max ferq 1\n",
      "\n",
      "0\n",
      "5\n",
      "7\n",
      "8\n",
      "9\n",
      "max ferq 1\n",
      "\n",
      "0\n",
      "1\n",
      "2\n"
     ]
    }
   ],
   "source": [
    "x = np.array([1,2,3,4,5,1,2,1,1,1])\n",
    "print('max ferq', np.bincount(x).argmax())\n",
    "print()\n",
    "for i in range(len(x)):\n",
    "    if x[i] == np.bincount(x).argmax():\n",
    "        print(i)\n",
    "\n",
    "y = np.array([1, 1, 1, 2, 3, 4, 2, 4, 3, 3 ])\n",
    "print('max ferq', np.bincount(y).argmax())\n",
    "print()\n",
    "for i in range(len(y)):\n",
    "    if y[i] == np.bincount(y).argmax():\n",
    "        print(i)"
   ]
  },
  {
   "cell_type": "markdown",
   "id": "b9d3c9d1",
   "metadata": {},
   "source": [
    "For the array gfg = np.matrix('[4, 1, 9; 12, 3, 1; 4, 5, 6]'), find\n",
    "\n",
    "i. Sum of all elements\n",
    "\n",
    "ii. Sum of all elements row-wise\n",
    "\n",
    "iii. Sum of all elements column-wise\n"
   ]
  },
  {
   "cell_type": "code",
   "execution_count": 17,
   "id": "0d0a91d7",
   "metadata": {},
   "outputs": [
    {
     "name": "stdout",
     "output_type": "stream",
     "text": [
      "45\n",
      "\n",
      "[[14]\n",
      " [16]\n",
      " [15]]\n",
      "\n",
      "[[20  9 16]]\n"
     ]
    }
   ],
   "source": [
    "gfg = np.matrix('[4, 1, 9; 12, 3, 1; 4, 5, 6]')\n",
    "print(gfg.sum())\n",
    "print()\n",
    "print(gfg.sum(axis=1))\n",
    "print()\n",
    "print(gfg.sum(axis=0))"
   ]
  },
  {
   "cell_type": "markdown",
   "id": "e4e3b589",
   "metadata": {},
   "source": [
    "For the matrix: n_array = np.array([[55, 25, 15],[30, 44, 2],[11, 45, 77]]), find\n",
    "\n",
    "i. Sum of diagonal elements\n",
    "\n",
    "ii. Eigen values of matrix\n",
    "\n",
    "iii. Eigen vectors of matrix\n",
    "\n",
    "iv. Inverse of matrix\n",
    "\n",
    "v. Determinant of matrix"
   ]
  },
  {
   "cell_type": "code",
   "execution_count": 25,
   "id": "f0a0ccea",
   "metadata": {},
   "outputs": [
    {
     "name": "stdout",
     "output_type": "stream",
     "text": [
      "176\n",
      "eigen values  [98.16835147 28.097044   49.73460452]\n",
      "eigen vectors  [[ 0.4574917   0.34637121 -0.15017693]\n",
      " [ 0.28447814 -0.72784061 -0.4852124 ]\n",
      " [ 0.84248058  0.59184038  0.8614034 ]]\n",
      "inv  [[ 0.02404141 -0.00911212 -0.00444671]\n",
      " [-0.01667882  0.02966905  0.0024785 ]\n",
      " [ 0.00631287 -0.01603732  0.01217379]]\n",
      "det  137180.0000000001\n"
     ]
    }
   ],
   "source": [
    "n_array = np.array([[55, 25, 15],[30, 44, 2],[11, 45, 77]])\n",
    "print(np.trace(n_array))\n",
    "print(\"eigen values \",np.linalg.eig(n_array)[0])\n",
    "print(\"eigen vectors \",np.linalg.eig(n_array)[1])\n",
    "print(\"inv \", np.linalg.inv(n_array))\n",
    "print(\"det \", np.linalg.det(n_array))\n"
   ]
  },
  {
   "cell_type": "markdown",
   "id": "cb7d5da0",
   "metadata": {},
   "source": [
    "Multiply the following matrices and also find covariance between matrices using NumPy:\n",
    "\n",
    "i. p = [[1, 2], [2, 3]]\n",
    "\n",
    "q = [[4, 5], [6, 7]]\n",
    "\n",
    "\n",
    "ii. p = [[1, 2], [2, 3], [4, 5]]\n",
    "\n",
    "q = [[4, 5, 1], [6, 7, 2]]"
   ]
  },
  {
   "cell_type": "code",
   "execution_count": 32,
   "id": "8bf52f15",
   "metadata": {},
   "outputs": [
    {
     "name": "stdout",
     "output_type": "stream",
     "text": [
      "[[16 19]\n",
      " [26 31]]\n",
      "[[0.5 0.5 1.  1. ]\n",
      " [0.5 0.5 1.  1. ]\n",
      " [1.  1.  2.  2. ]\n",
      " [1.  1.  2.  2. ]]\n"
     ]
    }
   ],
   "source": [
    "p1 = np.array([[1, 2], [2, 3]])\n",
    "q1 = np.array([[4, 5], [6, 7]])\n",
    "\n",
    "print(np.dot(p1, q1))\n",
    "print(np.cov(p1.transpose(), q1.transpose()))"
   ]
  },
  {
   "cell_type": "markdown",
   "id": "821fe5cd",
   "metadata": {},
   "source": [
    "For the matrices: x = np.array([[2, 3, 4], [3, 2, 9]]); y = np.array([[1, 5, 0], [5, 10, 3]]),\n",
    "find inner, outer and cartesian product?"
   ]
  },
  {
   "cell_type": "code",
   "execution_count": 43,
   "id": "5391bfe6",
   "metadata": {},
   "outputs": [
    {
     "name": "stdout",
     "output_type": "stream",
     "text": [
      "[[17 52]\n",
      " [13 62]]\n",
      "\n",
      "[[ 2 10  0 10 20  6]\n",
      " [ 3 15  0 15 30  9]\n",
      " [ 4 20  0 20 40 12]\n",
      " [ 3 15  0 15 30  9]\n",
      " [ 2 10  0 10 20  6]\n",
      " [ 9 45  0 45 90 27]]\n",
      "\n",
      "[[ 2  1]\n",
      " [ 2  5]\n",
      " [ 2  0]\n",
      " [ 2  5]\n",
      " [ 2 10]\n",
      " [ 2  3]\n",
      " [ 3  1]\n",
      " [ 3  5]\n",
      " [ 3  0]\n",
      " [ 3  5]\n",
      " [ 3 10]\n",
      " [ 3  3]\n",
      " [ 4  1]\n",
      " [ 4  5]\n",
      " [ 4  0]\n",
      " [ 4  5]\n",
      " [ 4 10]\n",
      " [ 4  3]\n",
      " [ 3  1]\n",
      " [ 3  5]\n",
      " [ 3  0]\n",
      " [ 3  5]\n",
      " [ 3 10]\n",
      " [ 3  3]\n",
      " [ 2  1]\n",
      " [ 2  5]\n",
      " [ 2  0]\n",
      " [ 2  5]\n",
      " [ 2 10]\n",
      " [ 2  3]\n",
      " [ 9  1]\n",
      " [ 9  5]\n",
      " [ 9  0]\n",
      " [ 9  5]\n",
      " [ 9 10]\n",
      " [ 9  3]]\n"
     ]
    }
   ],
   "source": [
    "x = np.array([[2, 3, 4], [3, 2, 9]])\n",
    "y = np.array([[1, 5, 0], [5, 10, 3]])\n",
    "\n",
    "print(np.inner(x, y))\n",
    "print()\n",
    "print(np.outer(x, y))\n",
    "print()\n",
    "print(np.array(np.meshgrid(x.flatten(), y.flatten())).transpose().reshape(-1, 2))"
   ]
  },
  {
   "cell_type": "markdown",
   "id": "4b4ae6dd",
   "metadata": {},
   "source": [
    "For the array: array = np.array([[1, -2, 3],[-4, 5, -6]])\n",
    "\n",
    "\n",
    "i. Find element-wise absolute value\n",
    "\n",
    "ii. Find the 25th, 50th, and 75th percentile of flattened array, for each column, for each\n",
    "row.\n",
    "\n",
    "iii. Mean, Median and Standard Deviation of flattened array, of each column, and\n",
    "each row"
   ]
  },
  {
   "cell_type": "code",
   "execution_count": 50,
   "id": "19a5db36",
   "metadata": {},
   "outputs": [
    {
     "name": "stdout",
     "output_type": "stream",
     "text": [
      "[[1 2 3]\n",
      " [4 5 6]]\n",
      "\n",
      "[-3.5 -0.5  2.5]\n",
      "[[-2.75 -0.25 -3.75]\n",
      " [-1.5   1.5  -1.5 ]\n",
      " [-0.25  3.25  0.75]]\n",
      "[[-0.5 -5. ]\n",
      " [ 1.  -4. ]\n",
      " [ 2.   0.5]]\n",
      "\n",
      "mean:  -0.5 median :  -0.5 std:  3.8622100754188224\n",
      "mean:  [-1.5  1.5 -1.5] median:  [-1.5  1.5 -1.5] std:  [2.5 3.5 4.5]\n",
      "mean:  [ 0.66666667 -1.66666667] median:  [ 1. -4.] std:  [2.05480467 4.78423336]\n"
     ]
    }
   ],
   "source": [
    "array = np.array([[1, -2, 3],[-4, 5, -6]])\n",
    "\n",
    "print(np.abs(array))\n",
    "print()\n",
    "print(np.percentile(array, [25, 50, 75]))\n",
    "print(np.percentile(array, [25, 50, 75], axis=0))\n",
    "print(np.percentile(array, [25, 50, 75], axis=1))\n",
    "print()\n",
    "print(\"mean: \", array.mean(), \"median : \",np.median(array),\"std: \", array.std())\n",
    "print(\"mean: \", array.mean(axis=0),\"median: \", np.median(array, axis=0),\"std: \", array.std(axis=0))\n",
    "print(\"mean: \",array.mean(axis=1),\"median: \", np.median(array, axis=1),\"std: \", array.std(axis=1))\n"
   ]
  },
  {
   "cell_type": "markdown",
   "id": "0e1e3fd8",
   "metadata": {},
   "source": [
    "For the array: a = np.array([-1.8, -1.6, -0.5, 0.5,1.6, 1.8, 3.0]). Find floor, ceiling\n",
    "and truncated value, rounded values"
   ]
  },
  {
   "cell_type": "code",
   "execution_count": 53,
   "id": "c4943cb8",
   "metadata": {},
   "outputs": [
    {
     "name": "stdout",
     "output_type": "stream",
     "text": [
      "[-2. -2. -1.  0.  1.  1.  3.]\n",
      "[-1. -1. -0.  1.  2.  2.  3.]\n",
      "[-1. -1. -0.  0.  1.  1.  3.]\n",
      "[-2. -2. -0.  0.  2.  2.  3.]\n"
     ]
    }
   ],
   "source": [
    "a = np.array([-1.8, -1.6, -0.5, 0.5,1.6, 1.8, 3.0])\n",
    "\n",
    "print(np.floor(a))\n",
    "print(np.ceil(a))\n",
    "print(np.trunc(a))\n",
    "print(np.round(a))\n"
   ]
  },
  {
   "cell_type": "markdown",
   "id": "dc848222",
   "metadata": {},
   "source": [
    "For the array: array = np.array([10, 52, 62, 16, 16, 54, 453]), find\n",
    "\n",
    "\n",
    "i. Sorted array\n",
    "\n",
    "ii. Indices of sorted array\n",
    "\n",
    "iii. 4 smallest elements\n",
    "\n",
    "iv. 5 largest elements"
   ]
  },
  {
   "cell_type": "code",
   "execution_count": 58,
   "id": "a25794f1",
   "metadata": {},
   "outputs": [
    {
     "name": "stdout",
     "output_type": "stream",
     "text": [
      "[1.  1.2 2.  2.  2.2 3. ]\n",
      "[0 1 3 5 2 4]\n",
      "[1.  1.2 2.  2. ]\n",
      "[1.2 2.  2.  2.2 3. ]\n"
     ]
    }
   ],
   "source": [
    "array = np.array([1.0, 1.2, 2.2, 2.0, 3.0, 2.0])\n",
    "\n",
    "print(np.sort(array))\n",
    "print(np.argsort(array))\n",
    "print(np.sort(array)[:4])\n",
    "print(np.sort(array)[-5:])\n"
   ]
  },
  {
   "cell_type": "markdown",
   "id": "3203ef7d",
   "metadata": {},
   "source": [
    "For the array: array = np.array([1.0, 1.2, 2.2, 2.0, 3.0, 2.0]), find\n",
    "\n",
    "\n",
    "i. Integer elements only\n",
    "\n",
    "ii. Float elements only"
   ]
  },
  {
   "cell_type": "code",
   "execution_count": 60,
   "id": "8f9b5a2d",
   "metadata": {},
   "outputs": [
    {
     "name": "stdout",
     "output_type": "stream",
     "text": [
      "[1. 2. 3. 2.]\n",
      "[1.  1.2 2.2 2.  3.  2. ]\n"
     ]
    }
   ],
   "source": [
    "array = np.array([1.0, 1.2, 2.2, 2.0, 3.0, 2.0])\n",
    "\n",
    "print( array[array == array.astype(int)])\n",
    "print( array[array == array.astype(float)])"
   ]
  },
  {
   "cell_type": "markdown",
   "id": "1f4d76ee",
   "metadata": {},
   "source": [
    "Write a function named img_to_array(path) that reads an image from a specified path and\n",
    "save it as text file on local machine? (Note: use separate cases for RGB and Grey Scale\n",
    "images)"
   ]
  },
  {
   "cell_type": "code",
   "execution_count": 61,
   "id": "cd0f31ee",
   "metadata": {},
   "outputs": [],
   "source": [
    "import cv2"
   ]
  },
  {
   "cell_type": "code",
   "execution_count": null,
   "id": "182878cf",
   "metadata": {},
   "outputs": [],
   "source": [
    "def img_to_array(path):\n",
    "    img = cv2.imread(path)\n",
    "    if len(img.shape) == 2:\n",
    "        np.savetxt(\"grayscaleimage.txt\", img, fmt='%d')\n",
    "    else:\n",
    "        for i in range(3):\n",
    "            np.savetxt(f\"channel_{i}.txt\", img[:,:,i], fmt='%d')"
   ]
  },
  {
   "cell_type": "code",
   "execution_count": 66,
   "id": "5f921faa",
   "metadata": {},
   "outputs": [],
   "source": [
    "path = '/Users/anmol117/Desktop/Screenshot 2025-05-24 at 7.24.28 PM.png'\\\n",
    "\n",
    "img_to_array(path)"
   ]
  },
  {
   "cell_type": "markdown",
   "id": "5486e92d",
   "metadata": {},
   "source": [
    "Load the saved file into jupyter notebook?"
   ]
  },
  {
   "cell_type": "code",
   "execution_count": 72,
   "id": "8f1f2e21",
   "metadata": {},
   "outputs": [
    {
     "data": {
      "text/plain": [
       "(array([[  0,   0,   0, ...,  43,  17,   3],\n",
       "        [  0,   0,   0, ...,  94,  79,  55],\n",
       "        [  0,   0,   0, ..., 108, 104,  96],\n",
       "        ...,\n",
       "        [141, 143, 145, ...,  72,  72,  70],\n",
       "        [134, 132, 139, ...,  71,  71,  70],\n",
       "        [131, 128, 135, ...,  69,  69,  68]]),\n",
       " array([[  0,   0,   0, ...,  38,  16,   3],\n",
       "        [  0,   0,   0, ...,  82,  69,  49],\n",
       "        [  0,   0,   0, ...,  93,  90,  84],\n",
       "        ...,\n",
       "        [154, 156, 158, ...,  90,  90,  89],\n",
       "        [147, 146, 153, ...,  89,  89,  88],\n",
       "        [143, 141, 148, ...,  87,  87,  87]]),\n",
       " array([[  0,   0,   0, ...,  36,  15,   3],\n",
       "        [  0,   0,   0, ...,  78,  67,  46],\n",
       "        [  0,   0,   0, ...,  89,  86,  79],\n",
       "        ...,\n",
       "        [164, 167, 169, ..., 105, 106, 105],\n",
       "        [156, 155, 162, ..., 104, 105, 104],\n",
       "        [152, 150, 157, ..., 104, 104, 104]]))"
      ]
     },
     "execution_count": 72,
     "metadata": {},
     "output_type": "execute_result"
    }
   ],
   "source": [
    "#grey = np.loadtxt(\"grayscaleimage.txt\", dtype=int)\n",
    "\n",
    "r = np.loadtxt(\"channel_0.txt\", dtype=int)\n",
    "g = np.loadtxt(\"channel_1.txt\", dtype=int)\n",
    "b = np.loadtxt(\"channel_2.txt\", dtype=int)\n",
    "\n",
    "r, g, b"
   ]
  }
 ],
 "metadata": {
  "kernelspec": {
   "display_name": "Python 3",
   "language": "python",
   "name": "python3"
  },
  "language_info": {
   "codemirror_mode": {
    "name": "ipython",
    "version": 3
   },
   "file_extension": ".py",
   "mimetype": "text/x-python",
   "name": "python",
   "nbconvert_exporter": "python",
   "pygments_lexer": "ipython3",
   "version": "3.11.5"
  }
 },
 "nbformat": 4,
 "nbformat_minor": 5
}
